{
  "nbformat": 4,
  "nbformat_minor": 0,
  "metadata": {
    "colab": {
      "name": "ZOMATO RESTAURANT CLUSTERING AND SENTIMENT ANALYSIS.ipynb",
      "provenance": [],
      "collapsed_sections": [],
      "include_colab_link": true
    },
    "kernelspec": {
      "name": "python3",
      "display_name": "Python 3"
    },
    "language_info": {
      "name": "python"
    }
  },
  "cells": [
    {
      "cell_type": "markdown",
      "metadata": {
        "id": "view-in-github",
        "colab_type": "text"
      },
      "source": [
        "<a href=\"https://colab.research.google.com/github/SIDPATEL-9496/Zomato-Customer-review-sentiment-analysis/blob/main/ZOMATO_RESTAURANT_CLUSTERING_AND_SENTIMENT_ANALYSIS.ipynb\" target=\"_parent\"><img src=\"https://colab.research.google.com/assets/colab-badge.svg\" alt=\"Open In Colab\"/></a>"
      ]
    },
    {
      "cell_type": "markdown",
      "metadata": {
        "id": "LGcl5Bv9ed6u"
      },
      "source": [
        "# **Problem Statement**"
      ]
    },
    {
      "cell_type": "markdown",
      "metadata": {
        "id": "Dtb2te3Omis9"
      },
      "source": [
        "Zomato is an Indian restaurant aggregator and food delivery start-up founded by Deepinder Goyal and Pankaj Chaddah in 2008. Zomato provides information, menus and user-reviews of restaurants, and also has food delivery options from partner restaurants in select cities.\n",
        "\n",
        "India is quite famous for its diverse multi cuisine available in a large number of restaurants and hotel resorts, which is reminiscent of unity in diversity. Restaurant business in India is always evolving. More Indians are warming up to the idea of eating restaurant food whether by dining outside or getting food delivered. The growing number of restaurants in every state of India has been a motivation to inspect the data to get some insights, interesting facts and figures about the Indian food industry in each city. So, this project focuses on analysing the Zomato restaurant data for each city in India.\n",
        "\n",
        "The Project focuses on Customers and Company, you have  to analyze the sentiments of the reviews given by the customer in the data and made some useful conclusion in the form of Visualizations. Also, cluster the zomato restaurants into different segments. The data is vizualized as it becomes easy to analyse data at instant. The Analysis also solve some of the business cases that can directly help the customers finding the Best restaurant in their locality and for the company to grow up and work on the fields they are currently lagging in.\n",
        "\n",
        "This could help in clustering the restaurants into segments. Also the data has valuable information around cuisine and costing which can be used in cost vs. benefit analysis\n",
        "\n",
        "Data could be used for sentiment analysis. Also the metadata of reviewers can be used for identifying the critics in the industry. "
      ]
    },
    {
      "cell_type": "markdown",
      "metadata": {
        "id": "AzGDqdC4fZ-b"
      },
      "source": [
        "# **Attribute Information**"
      ]
    },
    {
      "cell_type": "markdown",
      "metadata": {
        "id": "1rDsYX7KtvFb"
      },
      "source": [
        "## **Zomato Restaurant names and Metadata**\n",
        "Use this dataset for clustering part"
      ]
    },
    {
      "cell_type": "markdown",
      "metadata": {
        "id": "3uB3PQRXtz-A"
      },
      "source": [
        "1. Name : Name of Restaurants\n",
        "\n",
        "2. Links : URL Links of Restaurants\n",
        "\n",
        "3. Cost : Per person estimated Cost of dining\n",
        "\n",
        "4. Collection : Tagging of Restaurants w.r.t. Zomato categories\n",
        "\n",
        "5. Cuisines : Cuisines served by Restaurants\n",
        "\n",
        "6. Timings : Restaurant Timings"
      ]
    },
    {
      "cell_type": "markdown",
      "metadata": {
        "id": "Pq7CVNxQuT8i"
      },
      "source": [
        "## **Zomato Restaurant reviews**\n",
        "Merge this dataset with Names and Matadata and then use for sentiment analysis part"
      ]
    },
    {
      "cell_type": "markdown",
      "metadata": {
        "id": "k9E4XoEGuc0G"
      },
      "source": [
        "1. Restaurant : Name of the Restaurant\n",
        "\n",
        "2. Reviewer : Name of the Reviewer\n",
        "\n",
        "3. Review : Review Text\n",
        "\n",
        "4. Rating : Rating Provided by Reviewer\n",
        "\n",
        "5. MetaData : Reviewer Metadata - No. of Reviews and followers\n",
        "\n",
        "6. Time: Date and Time of Review\n",
        "\n",
        "7. Pictures : No. of pictures posted with review"
      ]
    },
    {
      "cell_type": "code",
      "metadata": {
        "id": "1l3Bx_H_xJJX"
      },
      "source": [
        "import numpy as np\n",
        "import pandas as pd\n",
        "import seaborn as sns\n",
        "import matplotlib.pyplot as plt"
      ],
      "execution_count": 1,
      "outputs": []
    },
    {
      "cell_type": "code",
      "metadata": {
        "colab": {
          "base_uri": "https://localhost:8080/"
        },
        "id": "SJ9LOkMxxwSt",
        "outputId": "3e6fdb04-2431-4df7-d5e6-8dc53d37b0c6"
      },
      "source": [
        "from google.colab import drive\n",
        "drive.mount('/content/drive')"
      ],
      "execution_count": 2,
      "outputs": [
        {
          "output_type": "stream",
          "name": "stdout",
          "text": [
            "Mounted at /content/drive\n"
          ]
        }
      ]
    },
    {
      "cell_type": "code",
      "metadata": {
        "id": "-3N5Y42CyJsg"
      },
      "source": [
        "pd.set_option('display.max_rows', 500)\n",
        "pd.set_option('display.max_columns', 500)\n",
        "pd.set_option('display.width', 500)"
      ],
      "execution_count": 3,
      "outputs": []
    },
    {
      "cell_type": "code",
      "metadata": {
        "id": "KjfyWv2Eyh4m"
      },
      "source": [
        "nf = pd.read_csv('/content/drive/MyDrive/AlmaBetter /ML_Clustering_Capstone_Project/Zomato_Resturant_Clustering_&_Review_Analysis/Sidhartha_Patel/Copy of Zomato Restaurant names and Metadata.csv')\n",
        "rf = pd.read_csv('/content/drive/MyDrive/AlmaBetter /ML_Clustering_Capstone_Project/Zomato_Resturant_Clustering_&_Review_Analysis/Sidhartha_Patel/Copy of Zomato Restaurant reviews.csv')"
      ],
      "execution_count": 4,
      "outputs": []
    },
    {
      "cell_type": "code",
      "metadata": {
        "colab": {
          "base_uri": "https://localhost:8080/"
        },
        "id": "s5k09WT1y7Xk",
        "outputId": "1c99c948-d48f-4b2c-9bb2-4e42497dd56e"
      },
      "source": [
        "nf.shape"
      ],
      "execution_count": 5,
      "outputs": [
        {
          "output_type": "execute_result",
          "data": {
            "text/plain": [
              "(105, 6)"
            ]
          },
          "metadata": {},
          "execution_count": 5
        }
      ]
    },
    {
      "cell_type": "code",
      "metadata": {
        "colab": {
          "base_uri": "https://localhost:8080/"
        },
        "id": "q_Vhnk9oy_cN",
        "outputId": "29e6955b-5555-402e-898f-909d85f5629a"
      },
      "source": [
        "nf.info()"
      ],
      "execution_count": 6,
      "outputs": [
        {
          "output_type": "stream",
          "name": "stdout",
          "text": [
            "<class 'pandas.core.frame.DataFrame'>\n",
            "RangeIndex: 105 entries, 0 to 104\n",
            "Data columns (total 6 columns):\n",
            " #   Column       Non-Null Count  Dtype \n",
            "---  ------       --------------  ----- \n",
            " 0   Name         105 non-null    object\n",
            " 1   Links        105 non-null    object\n",
            " 2   Cost         105 non-null    object\n",
            " 3   Collections  51 non-null     object\n",
            " 4   Cuisines     105 non-null    object\n",
            " 5   Timings      104 non-null    object\n",
            "dtypes: object(6)\n",
            "memory usage: 5.0+ KB\n"
          ]
        }
      ]
    },
    {
      "cell_type": "code",
      "metadata": {
        "colab": {
          "base_uri": "https://localhost:8080/",
          "height": 287
        },
        "id": "U5Ughue2zOHG",
        "outputId": "5bae2763-2298-40c2-af54-939e2ea5df33"
      },
      "source": [
        "nf.head()"
      ],
      "execution_count": 7,
      "outputs": [
        {
          "output_type": "execute_result",
          "data": {
            "text/html": [
              "<div>\n",
              "<style scoped>\n",
              "    .dataframe tbody tr th:only-of-type {\n",
              "        vertical-align: middle;\n",
              "    }\n",
              "\n",
              "    .dataframe tbody tr th {\n",
              "        vertical-align: top;\n",
              "    }\n",
              "\n",
              "    .dataframe thead th {\n",
              "        text-align: right;\n",
              "    }\n",
              "</style>\n",
              "<table border=\"1\" class=\"dataframe\">\n",
              "  <thead>\n",
              "    <tr style=\"text-align: right;\">\n",
              "      <th></th>\n",
              "      <th>Name</th>\n",
              "      <th>Links</th>\n",
              "      <th>Cost</th>\n",
              "      <th>Collections</th>\n",
              "      <th>Cuisines</th>\n",
              "      <th>Timings</th>\n",
              "    </tr>\n",
              "  </thead>\n",
              "  <tbody>\n",
              "    <tr>\n",
              "      <th>0</th>\n",
              "      <td>Beyond Flavours</td>\n",
              "      <td>https://www.zomato.com/hyderabad/beyond-flavou...</td>\n",
              "      <td>800</td>\n",
              "      <td>Food Hygiene Rated Restaurants in Hyderabad, C...</td>\n",
              "      <td>Chinese, Continental, Kebab, European, South I...</td>\n",
              "      <td>12noon to 3:30pm, 6:30pm to 11:30pm (Mon-Sun)</td>\n",
              "    </tr>\n",
              "    <tr>\n",
              "      <th>1</th>\n",
              "      <td>Paradise</td>\n",
              "      <td>https://www.zomato.com/hyderabad/paradise-gach...</td>\n",
              "      <td>800</td>\n",
              "      <td>Hyderabad's Hottest</td>\n",
              "      <td>Biryani, North Indian, Chinese</td>\n",
              "      <td>11 AM to 11 PM</td>\n",
              "    </tr>\n",
              "    <tr>\n",
              "      <th>2</th>\n",
              "      <td>Flechazo</td>\n",
              "      <td>https://www.zomato.com/hyderabad/flechazo-gach...</td>\n",
              "      <td>1,300</td>\n",
              "      <td>Great Buffets, Hyderabad's Hottest</td>\n",
              "      <td>Asian, Mediterranean, North Indian, Desserts</td>\n",
              "      <td>11:30 AM to 4:30 PM, 6:30 PM to 11 PM</td>\n",
              "    </tr>\n",
              "    <tr>\n",
              "      <th>3</th>\n",
              "      <td>Shah Ghouse Hotel &amp; Restaurant</td>\n",
              "      <td>https://www.zomato.com/hyderabad/shah-ghouse-h...</td>\n",
              "      <td>800</td>\n",
              "      <td>Late Night Restaurants</td>\n",
              "      <td>Biryani, North Indian, Chinese, Seafood, Bever...</td>\n",
              "      <td>12 Noon to 2 AM</td>\n",
              "    </tr>\n",
              "    <tr>\n",
              "      <th>4</th>\n",
              "      <td>Over The Moon Brew Company</td>\n",
              "      <td>https://www.zomato.com/hyderabad/over-the-moon...</td>\n",
              "      <td>1,200</td>\n",
              "      <td>Best Bars &amp; Pubs, Food Hygiene Rated Restauran...</td>\n",
              "      <td>Asian, Continental, North Indian, Chinese, Med...</td>\n",
              "      <td>12noon to 11pm (Mon, Tue, Wed, Thu, Sun), 12no...</td>\n",
              "    </tr>\n",
              "  </tbody>\n",
              "</table>\n",
              "</div>"
            ],
            "text/plain": [
              "                             Name                                              Links   Cost                                        Collections                                           Cuisines                                            Timings\n",
              "0                 Beyond Flavours  https://www.zomato.com/hyderabad/beyond-flavou...    800  Food Hygiene Rated Restaurants in Hyderabad, C...  Chinese, Continental, Kebab, European, South I...      12noon to 3:30pm, 6:30pm to 11:30pm (Mon-Sun)\n",
              "1                        Paradise  https://www.zomato.com/hyderabad/paradise-gach...    800                                Hyderabad's Hottest                     Biryani, North Indian, Chinese                                     11 AM to 11 PM\n",
              "2                        Flechazo  https://www.zomato.com/hyderabad/flechazo-gach...  1,300                 Great Buffets, Hyderabad's Hottest       Asian, Mediterranean, North Indian, Desserts              11:30 AM to 4:30 PM, 6:30 PM to 11 PM\n",
              "3  Shah Ghouse Hotel & Restaurant  https://www.zomato.com/hyderabad/shah-ghouse-h...    800                             Late Night Restaurants  Biryani, North Indian, Chinese, Seafood, Bever...                                    12 Noon to 2 AM\n",
              "4      Over The Moon Brew Company  https://www.zomato.com/hyderabad/over-the-moon...  1,200  Best Bars & Pubs, Food Hygiene Rated Restauran...  Asian, Continental, North Indian, Chinese, Med...  12noon to 11pm (Mon, Tue, Wed, Thu, Sun), 12no..."
            ]
          },
          "metadata": {},
          "execution_count": 7
        }
      ]
    },
    {
      "cell_type": "code",
      "metadata": {
        "colab": {
          "base_uri": "https://localhost:8080/",
          "height": 203
        },
        "id": "v5v9DJIYznYq",
        "outputId": "3682aabf-83e3-466f-a3bf-f65d5e11b98d"
      },
      "source": [
        "nf.tail()"
      ],
      "execution_count": 8,
      "outputs": [
        {
          "output_type": "execute_result",
          "data": {
            "text/html": [
              "<div>\n",
              "<style scoped>\n",
              "    .dataframe tbody tr th:only-of-type {\n",
              "        vertical-align: middle;\n",
              "    }\n",
              "\n",
              "    .dataframe tbody tr th {\n",
              "        vertical-align: top;\n",
              "    }\n",
              "\n",
              "    .dataframe thead th {\n",
              "        text-align: right;\n",
              "    }\n",
              "</style>\n",
              "<table border=\"1\" class=\"dataframe\">\n",
              "  <thead>\n",
              "    <tr style=\"text-align: right;\">\n",
              "      <th></th>\n",
              "      <th>Name</th>\n",
              "      <th>Links</th>\n",
              "      <th>Cost</th>\n",
              "      <th>Collections</th>\n",
              "      <th>Cuisines</th>\n",
              "      <th>Timings</th>\n",
              "    </tr>\n",
              "  </thead>\n",
              "  <tbody>\n",
              "    <tr>\n",
              "      <th>100</th>\n",
              "      <td>IndiBlaze</td>\n",
              "      <td>https://www.zomato.com/hyderabad/indiblaze-gac...</td>\n",
              "      <td>600</td>\n",
              "      <td>NaN</td>\n",
              "      <td>Fast Food, Salad</td>\n",
              "      <td>11 AM to 11 PM</td>\n",
              "    </tr>\n",
              "    <tr>\n",
              "      <th>101</th>\n",
              "      <td>Sweet Basket</td>\n",
              "      <td>https://www.zomato.com/hyderabad/sweet-basket-...</td>\n",
              "      <td>200</td>\n",
              "      <td>NaN</td>\n",
              "      <td>Bakery, Mithai</td>\n",
              "      <td>10 AM to 10 PM (Mon-Thu), 8 AM to 10:30 PM (Fr...</td>\n",
              "    </tr>\n",
              "    <tr>\n",
              "      <th>102</th>\n",
              "      <td>Angaara Counts 3</td>\n",
              "      <td>https://www.zomato.com/hyderabad/angaara-count...</td>\n",
              "      <td>500</td>\n",
              "      <td>NaN</td>\n",
              "      <td>North Indian, Biryani, Chinese</td>\n",
              "      <td>12 Noon to 11 PM</td>\n",
              "    </tr>\n",
              "    <tr>\n",
              "      <th>103</th>\n",
              "      <td>Wich Please</td>\n",
              "      <td>https://www.zomato.com/hyderabad/wich-please-1...</td>\n",
              "      <td>250</td>\n",
              "      <td>NaN</td>\n",
              "      <td>Fast Food</td>\n",
              "      <td>8am to 12:30AM (Mon-Sun)</td>\n",
              "    </tr>\n",
              "    <tr>\n",
              "      <th>104</th>\n",
              "      <td>Republic Of Noodles - Lemon Tree Hotel</td>\n",
              "      <td>https://www.zomato.com/hyderabad/republic-of-n...</td>\n",
              "      <td>1,700</td>\n",
              "      <td>Pan-Asian Delicacies</td>\n",
              "      <td>Thai, Asian, Chinese, Malaysian</td>\n",
              "      <td>11:30 AM to 3 PM, 7 PM to 12 Midnight</td>\n",
              "    </tr>\n",
              "  </tbody>\n",
              "</table>\n",
              "</div>"
            ],
            "text/plain": [
              "                                       Name                                              Links   Cost           Collections                         Cuisines                                            Timings\n",
              "100                               IndiBlaze  https://www.zomato.com/hyderabad/indiblaze-gac...    600                   NaN                 Fast Food, Salad                                     11 AM to 11 PM\n",
              "101                            Sweet Basket  https://www.zomato.com/hyderabad/sweet-basket-...    200                   NaN                   Bakery, Mithai  10 AM to 10 PM (Mon-Thu), 8 AM to 10:30 PM (Fr...\n",
              "102                        Angaara Counts 3  https://www.zomato.com/hyderabad/angaara-count...    500                   NaN   North Indian, Biryani, Chinese                                   12 Noon to 11 PM\n",
              "103                             Wich Please  https://www.zomato.com/hyderabad/wich-please-1...    250                   NaN                        Fast Food                           8am to 12:30AM (Mon-Sun)\n",
              "104  Republic Of Noodles - Lemon Tree Hotel  https://www.zomato.com/hyderabad/republic-of-n...  1,700  Pan-Asian Delicacies  Thai, Asian, Chinese, Malaysian              11:30 AM to 3 PM, 7 PM to 12 Midnight"
            ]
          },
          "metadata": {},
          "execution_count": 8
        }
      ]
    },
    {
      "cell_type": "code",
      "metadata": {
        "colab": {
          "base_uri": "https://localhost:8080/"
        },
        "id": "9qPwf5WZz9iZ",
        "outputId": "03c6ea23-2922-406c-d9f3-c33e181f82f7"
      },
      "source": [
        "null_count = nf.isnull().sum()\n",
        "null_count"
      ],
      "execution_count": 9,
      "outputs": [
        {
          "output_type": "execute_result",
          "data": {
            "text/plain": [
              "Name            0\n",
              "Links           0\n",
              "Cost            0\n",
              "Collections    54\n",
              "Cuisines        0\n",
              "Timings         1\n",
              "dtype: int64"
            ]
          },
          "metadata": {},
          "execution_count": 9
        }
      ]
    },
    {
      "cell_type": "code",
      "metadata": {
        "colab": {
          "base_uri": "https://localhost:8080/"
        },
        "id": "X6zE4EuD0QmV",
        "outputId": "74aa153b-e099-4e1b-bce0-2b7e2999f6fd"
      },
      "source": [
        "nf.nunique()"
      ],
      "execution_count": 10,
      "outputs": [
        {
          "output_type": "execute_result",
          "data": {
            "text/plain": [
              "Name           105\n",
              "Links          105\n",
              "Cost            29\n",
              "Collections     42\n",
              "Cuisines        92\n",
              "Timings         77\n",
              "dtype: int64"
            ]
          },
          "metadata": {},
          "execution_count": 10
        }
      ]
    },
    {
      "cell_type": "markdown",
      "metadata": {
        "id": "3iYggIsF6cNp"
      },
      "source": [
        "# Basic analysis on review data"
      ]
    },
    {
      "cell_type": "code",
      "metadata": {
        "colab": {
          "base_uri": "https://localhost:8080/"
        },
        "id": "O6eZgUIMBVZs",
        "outputId": "e0604186-937f-43aa-9dcf-4c1e6bcf6788"
      },
      "source": [
        "# Shape of the data\n",
        "rf.shape"
      ],
      "execution_count": 11,
      "outputs": [
        {
          "output_type": "execute_result",
          "data": {
            "text/plain": [
              "(10000, 7)"
            ]
          },
          "metadata": {},
          "execution_count": 11
        }
      ]
    },
    {
      "cell_type": "code",
      "metadata": {
        "colab": {
          "base_uri": "https://localhost:8080/"
        },
        "id": "L2Cg5wjOEe7T",
        "outputId": "12479bda-1616-41ab-8c61-7ccce35f036c"
      },
      "source": [
        "rf.info()"
      ],
      "execution_count": 12,
      "outputs": [
        {
          "output_type": "stream",
          "name": "stdout",
          "text": [
            "<class 'pandas.core.frame.DataFrame'>\n",
            "RangeIndex: 10000 entries, 0 to 9999\n",
            "Data columns (total 7 columns):\n",
            " #   Column      Non-Null Count  Dtype \n",
            "---  ------      --------------  ----- \n",
            " 0   Restaurant  10000 non-null  object\n",
            " 1   Reviewer    9962 non-null   object\n",
            " 2   Review      9955 non-null   object\n",
            " 3   Rating      9962 non-null   object\n",
            " 4   Metadata    9962 non-null   object\n",
            " 5   Time        9962 non-null   object\n",
            " 6   Pictures    10000 non-null  int64 \n",
            "dtypes: int64(1), object(6)\n",
            "memory usage: 547.0+ KB\n"
          ]
        }
      ]
    },
    {
      "cell_type": "code",
      "metadata": {
        "colab": {
          "base_uri": "https://localhost:8080/"
        },
        "id": "PlxKzA2OH_DX",
        "outputId": "06eb2da4-f710-4409-faca-17138d7a6f61"
      },
      "source": [
        "rf.shape"
      ],
      "execution_count": 13,
      "outputs": [
        {
          "output_type": "execute_result",
          "data": {
            "text/plain": [
              "(10000, 7)"
            ]
          },
          "metadata": {},
          "execution_count": 13
        }
      ]
    },
    {
      "cell_type": "code",
      "metadata": {
        "colab": {
          "base_uri": "https://localhost:8080/"
        },
        "id": "-hfcmVVsIGPF",
        "outputId": "88311680-501d-48be-98a9-2d5d225098a0"
      },
      "source": [
        "rf.info()"
      ],
      "execution_count": 14,
      "outputs": [
        {
          "output_type": "stream",
          "name": "stdout",
          "text": [
            "<class 'pandas.core.frame.DataFrame'>\n",
            "RangeIndex: 10000 entries, 0 to 9999\n",
            "Data columns (total 7 columns):\n",
            " #   Column      Non-Null Count  Dtype \n",
            "---  ------      --------------  ----- \n",
            " 0   Restaurant  10000 non-null  object\n",
            " 1   Reviewer    9962 non-null   object\n",
            " 2   Review      9955 non-null   object\n",
            " 3   Rating      9962 non-null   object\n",
            " 4   Metadata    9962 non-null   object\n",
            " 5   Time        9962 non-null   object\n",
            " 6   Pictures    10000 non-null  int64 \n",
            "dtypes: int64(1), object(6)\n",
            "memory usage: 547.0+ KB\n"
          ]
        }
      ]
    },
    {
      "cell_type": "code",
      "metadata": {
        "colab": {
          "base_uri": "https://localhost:8080/",
          "height": 203
        },
        "id": "TTZ-LjleIIJG",
        "outputId": "0d9f476a-8904-4779-d7d0-5e0786c5e6c7"
      },
      "source": [
        "rf.head()"
      ],
      "execution_count": 15,
      "outputs": [
        {
          "output_type": "execute_result",
          "data": {
            "text/html": [
              "<div>\n",
              "<style scoped>\n",
              "    .dataframe tbody tr th:only-of-type {\n",
              "        vertical-align: middle;\n",
              "    }\n",
              "\n",
              "    .dataframe tbody tr th {\n",
              "        vertical-align: top;\n",
              "    }\n",
              "\n",
              "    .dataframe thead th {\n",
              "        text-align: right;\n",
              "    }\n",
              "</style>\n",
              "<table border=\"1\" class=\"dataframe\">\n",
              "  <thead>\n",
              "    <tr style=\"text-align: right;\">\n",
              "      <th></th>\n",
              "      <th>Restaurant</th>\n",
              "      <th>Reviewer</th>\n",
              "      <th>Review</th>\n",
              "      <th>Rating</th>\n",
              "      <th>Metadata</th>\n",
              "      <th>Time</th>\n",
              "      <th>Pictures</th>\n",
              "    </tr>\n",
              "  </thead>\n",
              "  <tbody>\n",
              "    <tr>\n",
              "      <th>0</th>\n",
              "      <td>Beyond Flavours</td>\n",
              "      <td>Rusha Chakraborty</td>\n",
              "      <td>The ambience was good, food was quite good . h...</td>\n",
              "      <td>5</td>\n",
              "      <td>1 Review , 2 Followers</td>\n",
              "      <td>5/25/2019 15:54</td>\n",
              "      <td>0</td>\n",
              "    </tr>\n",
              "    <tr>\n",
              "      <th>1</th>\n",
              "      <td>Beyond Flavours</td>\n",
              "      <td>Anusha Tirumalaneedi</td>\n",
              "      <td>Ambience is too good for a pleasant evening. S...</td>\n",
              "      <td>5</td>\n",
              "      <td>3 Reviews , 2 Followers</td>\n",
              "      <td>5/25/2019 14:20</td>\n",
              "      <td>0</td>\n",
              "    </tr>\n",
              "    <tr>\n",
              "      <th>2</th>\n",
              "      <td>Beyond Flavours</td>\n",
              "      <td>Ashok Shekhawat</td>\n",
              "      <td>A must try.. great food great ambience. Thnx f...</td>\n",
              "      <td>5</td>\n",
              "      <td>2 Reviews , 3 Followers</td>\n",
              "      <td>5/24/2019 22:54</td>\n",
              "      <td>0</td>\n",
              "    </tr>\n",
              "    <tr>\n",
              "      <th>3</th>\n",
              "      <td>Beyond Flavours</td>\n",
              "      <td>Swapnil Sarkar</td>\n",
              "      <td>Soumen das and Arun was a great guy. Only beca...</td>\n",
              "      <td>5</td>\n",
              "      <td>1 Review , 1 Follower</td>\n",
              "      <td>5/24/2019 22:11</td>\n",
              "      <td>0</td>\n",
              "    </tr>\n",
              "    <tr>\n",
              "      <th>4</th>\n",
              "      <td>Beyond Flavours</td>\n",
              "      <td>Dileep</td>\n",
              "      <td>Food is good.we ordered Kodi drumsticks and ba...</td>\n",
              "      <td>5</td>\n",
              "      <td>3 Reviews , 2 Followers</td>\n",
              "      <td>5/24/2019 21:37</td>\n",
              "      <td>0</td>\n",
              "    </tr>\n",
              "  </tbody>\n",
              "</table>\n",
              "</div>"
            ],
            "text/plain": [
              "        Restaurant              Reviewer                                             Review Rating                 Metadata             Time  Pictures\n",
              "0  Beyond Flavours     Rusha Chakraborty  The ambience was good, food was quite good . h...      5   1 Review , 2 Followers  5/25/2019 15:54         0\n",
              "1  Beyond Flavours  Anusha Tirumalaneedi  Ambience is too good for a pleasant evening. S...      5  3 Reviews , 2 Followers  5/25/2019 14:20         0\n",
              "2  Beyond Flavours       Ashok Shekhawat  A must try.. great food great ambience. Thnx f...      5  2 Reviews , 3 Followers  5/24/2019 22:54         0\n",
              "3  Beyond Flavours        Swapnil Sarkar  Soumen das and Arun was a great guy. Only beca...      5    1 Review , 1 Follower  5/24/2019 22:11         0\n",
              "4  Beyond Flavours                Dileep  Food is good.we ordered Kodi drumsticks and ba...      5  3 Reviews , 2 Followers  5/24/2019 21:37         0"
            ]
          },
          "metadata": {},
          "execution_count": 15
        }
      ]
    },
    {
      "cell_type": "code",
      "metadata": {
        "colab": {
          "base_uri": "https://localhost:8080/",
          "height": 203
        },
        "id": "Fq3sukbPIL0G",
        "outputId": "a0fff8af-e894-4400-815a-a736eef5f511"
      },
      "source": [
        "rf.tail()"
      ],
      "execution_count": 16,
      "outputs": [
        {
          "output_type": "execute_result",
          "data": {
            "text/html": [
              "<div>\n",
              "<style scoped>\n",
              "    .dataframe tbody tr th:only-of-type {\n",
              "        vertical-align: middle;\n",
              "    }\n",
              "\n",
              "    .dataframe tbody tr th {\n",
              "        vertical-align: top;\n",
              "    }\n",
              "\n",
              "    .dataframe thead th {\n",
              "        text-align: right;\n",
              "    }\n",
              "</style>\n",
              "<table border=\"1\" class=\"dataframe\">\n",
              "  <thead>\n",
              "    <tr style=\"text-align: right;\">\n",
              "      <th></th>\n",
              "      <th>Restaurant</th>\n",
              "      <th>Reviewer</th>\n",
              "      <th>Review</th>\n",
              "      <th>Rating</th>\n",
              "      <th>Metadata</th>\n",
              "      <th>Time</th>\n",
              "      <th>Pictures</th>\n",
              "    </tr>\n",
              "  </thead>\n",
              "  <tbody>\n",
              "    <tr>\n",
              "      <th>9995</th>\n",
              "      <td>Chinese Pavilion</td>\n",
              "      <td>Abhishek Mahajan</td>\n",
              "      <td>Madhumathi Mahajan Well to start with nice cou...</td>\n",
              "      <td>3</td>\n",
              "      <td>53 Reviews , 54 Followers</td>\n",
              "      <td>6/5/2016 0:08</td>\n",
              "      <td>0</td>\n",
              "    </tr>\n",
              "    <tr>\n",
              "      <th>9996</th>\n",
              "      <td>Chinese Pavilion</td>\n",
              "      <td>Sharad Agrawal</td>\n",
              "      <td>This place has never disappointed us.. The foo...</td>\n",
              "      <td>4.5</td>\n",
              "      <td>2 Reviews , 53 Followers</td>\n",
              "      <td>6/4/2016 22:01</td>\n",
              "      <td>0</td>\n",
              "    </tr>\n",
              "    <tr>\n",
              "      <th>9997</th>\n",
              "      <td>Chinese Pavilion</td>\n",
              "      <td>Ramandeep</td>\n",
              "      <td>Bad rating is mainly because of \"Chicken Bone ...</td>\n",
              "      <td>1.5</td>\n",
              "      <td>65 Reviews , 423 Followers</td>\n",
              "      <td>6/3/2016 10:37</td>\n",
              "      <td>3</td>\n",
              "    </tr>\n",
              "    <tr>\n",
              "      <th>9998</th>\n",
              "      <td>Chinese Pavilion</td>\n",
              "      <td>Nayana Shanbhag</td>\n",
              "      <td>I personally love and prefer Chinese Food. Had...</td>\n",
              "      <td>4</td>\n",
              "      <td>13 Reviews , 144 Followers</td>\n",
              "      <td>5/31/2016 17:22</td>\n",
              "      <td>0</td>\n",
              "    </tr>\n",
              "    <tr>\n",
              "      <th>9999</th>\n",
              "      <td>Chinese Pavilion</td>\n",
              "      <td>Bhargava Krishna</td>\n",
              "      <td>Checked in here to try some delicious chinese ...</td>\n",
              "      <td>3.5</td>\n",
              "      <td>472 Reviews , 1302 Followers</td>\n",
              "      <td>5/31/2016 16:41</td>\n",
              "      <td>6</td>\n",
              "    </tr>\n",
              "  </tbody>\n",
              "</table>\n",
              "</div>"
            ],
            "text/plain": [
              "            Restaurant          Reviewer                                             Review Rating                      Metadata             Time  Pictures\n",
              "9995  Chinese Pavilion  Abhishek Mahajan  Madhumathi Mahajan Well to start with nice cou...      3     53 Reviews , 54 Followers    6/5/2016 0:08         0\n",
              "9996  Chinese Pavilion    Sharad Agrawal  This place has never disappointed us.. The foo...    4.5      2 Reviews , 53 Followers   6/4/2016 22:01         0\n",
              "9997  Chinese Pavilion         Ramandeep  Bad rating is mainly because of \"Chicken Bone ...    1.5    65 Reviews , 423 Followers   6/3/2016 10:37         3\n",
              "9998  Chinese Pavilion   Nayana Shanbhag  I personally love and prefer Chinese Food. Had...      4    13 Reviews , 144 Followers  5/31/2016 17:22         0\n",
              "9999  Chinese Pavilion  Bhargava Krishna  Checked in here to try some delicious chinese ...    3.5  472 Reviews , 1302 Followers  5/31/2016 16:41         6"
            ]
          },
          "metadata": {},
          "execution_count": 16
        }
      ]
    },
    {
      "cell_type": "code",
      "metadata": {
        "colab": {
          "base_uri": "https://localhost:8080/"
        },
        "id": "KDPOjt-IINDI",
        "outputId": "dc50f5de-2cd1-4e44-dd17-7400ef982a15"
      },
      "source": [
        "null = rf.isnull().sum()\n",
        "null"
      ],
      "execution_count": 17,
      "outputs": [
        {
          "output_type": "execute_result",
          "data": {
            "text/plain": [
              "Restaurant     0\n",
              "Reviewer      38\n",
              "Review        45\n",
              "Rating        38\n",
              "Metadata      38\n",
              "Time          38\n",
              "Pictures       0\n",
              "dtype: int64"
            ]
          },
          "metadata": {},
          "execution_count": 17
        }
      ]
    },
    {
      "cell_type": "code",
      "metadata": {
        "colab": {
          "base_uri": "https://localhost:8080/"
        },
        "id": "zWuqZay-IZ46",
        "outputId": "da4d6896-d17e-4b7e-8b12-fea41e5e70c6"
      },
      "source": [
        "rf.nunique()"
      ],
      "execution_count": 18,
      "outputs": [
        {
          "output_type": "execute_result",
          "data": {
            "text/plain": [
              "Restaurant     100\n",
              "Reviewer      7446\n",
              "Review        9364\n",
              "Rating          10\n",
              "Metadata      2477\n",
              "Time          9782\n",
              "Pictures        36\n",
              "dtype: int64"
            ]
          },
          "metadata": {},
          "execution_count": 18
        }
      ]
    },
    {
      "cell_type": "code",
      "metadata": {
        "colab": {
          "base_uri": "https://localhost:8080/"
        },
        "id": "bz_BWxtxIojj",
        "outputId": "06a95e66-8c75-4276-8e5d-18f9b92e5c41"
      },
      "source": [
        "rf['Rating'].unique()"
      ],
      "execution_count": 19,
      "outputs": [
        {
          "output_type": "execute_result",
          "data": {
            "text/plain": [
              "array(['5', '4', '1', '3', '2', '3.5', '4.5', '2.5', '1.5', 'Like', nan],\n",
              "      dtype=object)"
            ]
          },
          "metadata": {},
          "execution_count": 19
        }
      ]
    },
    {
      "cell_type": "markdown",
      "metadata": {
        "id": "dV1ZLqlz7nNP"
      },
      "source": [
        "# Merging the datasets"
      ]
    },
    {
      "cell_type": "code",
      "metadata": {
        "id": "P2v0RkoYIxRq"
      },
      "source": [
        "#Changing the column name for convenience while merging\n",
        "nf = nf.rename(columns={'Name':'Restaurant'})\n",
        "\n",
        "# Merging the two dataframes\n",
        "df = pd.merge(nf, rf, how = 'left', on = 'Restaurant')"
      ],
      "execution_count": 20,
      "outputs": []
    },
    {
      "cell_type": "code",
      "metadata": {
        "colab": {
          "base_uri": "https://localhost:8080/",
          "height": 455
        },
        "id": "uUf907zP8d1Z",
        "outputId": "fe21866d-d587-4f29-9230-ce9fa8a8ddb3"
      },
      "source": [
        "df.head()"
      ],
      "execution_count": 21,
      "outputs": [
        {
          "output_type": "execute_result",
          "data": {
            "text/html": [
              "<div>\n",
              "<style scoped>\n",
              "    .dataframe tbody tr th:only-of-type {\n",
              "        vertical-align: middle;\n",
              "    }\n",
              "\n",
              "    .dataframe tbody tr th {\n",
              "        vertical-align: top;\n",
              "    }\n",
              "\n",
              "    .dataframe thead th {\n",
              "        text-align: right;\n",
              "    }\n",
              "</style>\n",
              "<table border=\"1\" class=\"dataframe\">\n",
              "  <thead>\n",
              "    <tr style=\"text-align: right;\">\n",
              "      <th></th>\n",
              "      <th>Restaurant</th>\n",
              "      <th>Links</th>\n",
              "      <th>Cost</th>\n",
              "      <th>Collections</th>\n",
              "      <th>Cuisines</th>\n",
              "      <th>Timings</th>\n",
              "      <th>Reviewer</th>\n",
              "      <th>Review</th>\n",
              "      <th>Rating</th>\n",
              "      <th>Metadata</th>\n",
              "      <th>Time</th>\n",
              "      <th>Pictures</th>\n",
              "    </tr>\n",
              "  </thead>\n",
              "  <tbody>\n",
              "    <tr>\n",
              "      <th>0</th>\n",
              "      <td>Beyond Flavours</td>\n",
              "      <td>https://www.zomato.com/hyderabad/beyond-flavou...</td>\n",
              "      <td>800</td>\n",
              "      <td>Food Hygiene Rated Restaurants in Hyderabad, C...</td>\n",
              "      <td>Chinese, Continental, Kebab, European, South I...</td>\n",
              "      <td>12noon to 3:30pm, 6:30pm to 11:30pm (Mon-Sun)</td>\n",
              "      <td>Rusha Chakraborty</td>\n",
              "      <td>The ambience was good, food was quite good . h...</td>\n",
              "      <td>5</td>\n",
              "      <td>1 Review , 2 Followers</td>\n",
              "      <td>5/25/2019 15:54</td>\n",
              "      <td>0.0</td>\n",
              "    </tr>\n",
              "    <tr>\n",
              "      <th>1</th>\n",
              "      <td>Beyond Flavours</td>\n",
              "      <td>https://www.zomato.com/hyderabad/beyond-flavou...</td>\n",
              "      <td>800</td>\n",
              "      <td>Food Hygiene Rated Restaurants in Hyderabad, C...</td>\n",
              "      <td>Chinese, Continental, Kebab, European, South I...</td>\n",
              "      <td>12noon to 3:30pm, 6:30pm to 11:30pm (Mon-Sun)</td>\n",
              "      <td>Anusha Tirumalaneedi</td>\n",
              "      <td>Ambience is too good for a pleasant evening. S...</td>\n",
              "      <td>5</td>\n",
              "      <td>3 Reviews , 2 Followers</td>\n",
              "      <td>5/25/2019 14:20</td>\n",
              "      <td>0.0</td>\n",
              "    </tr>\n",
              "    <tr>\n",
              "      <th>2</th>\n",
              "      <td>Beyond Flavours</td>\n",
              "      <td>https://www.zomato.com/hyderabad/beyond-flavou...</td>\n",
              "      <td>800</td>\n",
              "      <td>Food Hygiene Rated Restaurants in Hyderabad, C...</td>\n",
              "      <td>Chinese, Continental, Kebab, European, South I...</td>\n",
              "      <td>12noon to 3:30pm, 6:30pm to 11:30pm (Mon-Sun)</td>\n",
              "      <td>Ashok Shekhawat</td>\n",
              "      <td>A must try.. great food great ambience. Thnx f...</td>\n",
              "      <td>5</td>\n",
              "      <td>2 Reviews , 3 Followers</td>\n",
              "      <td>5/24/2019 22:54</td>\n",
              "      <td>0.0</td>\n",
              "    </tr>\n",
              "    <tr>\n",
              "      <th>3</th>\n",
              "      <td>Beyond Flavours</td>\n",
              "      <td>https://www.zomato.com/hyderabad/beyond-flavou...</td>\n",
              "      <td>800</td>\n",
              "      <td>Food Hygiene Rated Restaurants in Hyderabad, C...</td>\n",
              "      <td>Chinese, Continental, Kebab, European, South I...</td>\n",
              "      <td>12noon to 3:30pm, 6:30pm to 11:30pm (Mon-Sun)</td>\n",
              "      <td>Swapnil Sarkar</td>\n",
              "      <td>Soumen das and Arun was a great guy. Only beca...</td>\n",
              "      <td>5</td>\n",
              "      <td>1 Review , 1 Follower</td>\n",
              "      <td>5/24/2019 22:11</td>\n",
              "      <td>0.0</td>\n",
              "    </tr>\n",
              "    <tr>\n",
              "      <th>4</th>\n",
              "      <td>Beyond Flavours</td>\n",
              "      <td>https://www.zomato.com/hyderabad/beyond-flavou...</td>\n",
              "      <td>800</td>\n",
              "      <td>Food Hygiene Rated Restaurants in Hyderabad, C...</td>\n",
              "      <td>Chinese, Continental, Kebab, European, South I...</td>\n",
              "      <td>12noon to 3:30pm, 6:30pm to 11:30pm (Mon-Sun)</td>\n",
              "      <td>Dileep</td>\n",
              "      <td>Food is good.we ordered Kodi drumsticks and ba...</td>\n",
              "      <td>5</td>\n",
              "      <td>3 Reviews , 2 Followers</td>\n",
              "      <td>5/24/2019 21:37</td>\n",
              "      <td>0.0</td>\n",
              "    </tr>\n",
              "  </tbody>\n",
              "</table>\n",
              "</div>"
            ],
            "text/plain": [
              "        Restaurant                                              Links Cost                                        Collections                                           Cuisines                                        Timings              Reviewer                                             Review Rating                 Metadata             Time  Pictures\n",
              "0  Beyond Flavours  https://www.zomato.com/hyderabad/beyond-flavou...  800  Food Hygiene Rated Restaurants in Hyderabad, C...  Chinese, Continental, Kebab, European, South I...  12noon to 3:30pm, 6:30pm to 11:30pm (Mon-Sun)     Rusha Chakraborty  The ambience was good, food was quite good . h...      5   1 Review , 2 Followers  5/25/2019 15:54       0.0\n",
              "1  Beyond Flavours  https://www.zomato.com/hyderabad/beyond-flavou...  800  Food Hygiene Rated Restaurants in Hyderabad, C...  Chinese, Continental, Kebab, European, South I...  12noon to 3:30pm, 6:30pm to 11:30pm (Mon-Sun)  Anusha Tirumalaneedi  Ambience is too good for a pleasant evening. S...      5  3 Reviews , 2 Followers  5/25/2019 14:20       0.0\n",
              "2  Beyond Flavours  https://www.zomato.com/hyderabad/beyond-flavou...  800  Food Hygiene Rated Restaurants in Hyderabad, C...  Chinese, Continental, Kebab, European, South I...  12noon to 3:30pm, 6:30pm to 11:30pm (Mon-Sun)       Ashok Shekhawat  A must try.. great food great ambience. Thnx f...      5  2 Reviews , 3 Followers  5/24/2019 22:54       0.0\n",
              "3  Beyond Flavours  https://www.zomato.com/hyderabad/beyond-flavou...  800  Food Hygiene Rated Restaurants in Hyderabad, C...  Chinese, Continental, Kebab, European, South I...  12noon to 3:30pm, 6:30pm to 11:30pm (Mon-Sun)        Swapnil Sarkar  Soumen das and Arun was a great guy. Only beca...      5    1 Review , 1 Follower  5/24/2019 22:11       0.0\n",
              "4  Beyond Flavours  https://www.zomato.com/hyderabad/beyond-flavou...  800  Food Hygiene Rated Restaurants in Hyderabad, C...  Chinese, Continental, Kebab, European, South I...  12noon to 3:30pm, 6:30pm to 11:30pm (Mon-Sun)                Dileep  Food is good.we ordered Kodi drumsticks and ba...      5  3 Reviews , 2 Followers  5/24/2019 21:37       0.0"
            ]
          },
          "metadata": {},
          "execution_count": 21
        }
      ]
    },
    {
      "cell_type": "markdown",
      "metadata": {
        "id": "h5kA9Wm3--va"
      },
      "source": [
        "# Data Cleaning"
      ]
    },
    {
      "cell_type": "code",
      "metadata": {
        "id": "wEO5eAKV8m0V"
      },
      "source": [
        "# Dropping the unwanted columns\n",
        "df.drop(['Time', 'Links', 'Collections'], axis=1, inplace=True)"
      ],
      "execution_count": 22,
      "outputs": []
    },
    {
      "cell_type": "code",
      "metadata": {
        "colab": {
          "base_uri": "https://localhost:8080/"
        },
        "id": "B1mAQmiY_LWE",
        "outputId": "53d80e80-acdd-403b-8464-43f51f6e7470"
      },
      "source": [
        "print(df.isnull().sum())"
      ],
      "execution_count": 23,
      "outputs": [
        {
          "output_type": "stream",
          "name": "stdout",
          "text": [
            "Restaurant      0\n",
            "Cost            0\n",
            "Cuisines        0\n",
            "Timings       100\n",
            "Reviewer       43\n",
            "Review         50\n",
            "Rating         43\n",
            "Metadata       43\n",
            "Pictures        5\n",
            "dtype: int64\n"
          ]
        }
      ]
    },
    {
      "cell_type": "code",
      "metadata": {
        "id": "6lIhcAlE_TAb"
      },
      "source": [
        "#Dropping the row in which we got invalid entry for Rating\n",
        "df = df[df['Rating']!='Like']"
      ],
      "execution_count": 24,
      "outputs": []
    },
    {
      "cell_type": "code",
      "metadata": {
        "colab": {
          "base_uri": "https://localhost:8080/"
        },
        "id": "jkfegiSE_j2o",
        "outputId": "43e550f3-0866-4351-d042-44aa2683521d"
      },
      "source": [
        "# rows with Review,Rating,Metadata as null values\n",
        "df[(df['Review'].isnull())&(df['Rating'].isnull())&(df['Metadata'].isnull())].shape[0]"
      ],
      "execution_count": 25,
      "outputs": [
        {
          "output_type": "execute_result",
          "data": {
            "text/plain": [
              "43"
            ]
          },
          "metadata": {},
          "execution_count": 25
        }
      ]
    },
    {
      "cell_type": "code",
      "metadata": {
        "id": "eF-OBJOa_tnE"
      },
      "source": [
        "#removing all the rows with null values\n",
        "df = df[(df['Review'].notna())&(df['Timings'].notna())]"
      ],
      "execution_count": 26,
      "outputs": []
    },
    {
      "cell_type": "code",
      "metadata": {
        "colab": {
          "base_uri": "https://localhost:8080/"
        },
        "id": "Se-rMzq8_8mH",
        "outputId": "18da5389-a0bb-43c0-cc94-d55cf1350213"
      },
      "source": [
        "print(df.isnull().sum())"
      ],
      "execution_count": 27,
      "outputs": [
        {
          "output_type": "stream",
          "name": "stdout",
          "text": [
            "Restaurant    0\n",
            "Cost          0\n",
            "Cuisines      0\n",
            "Timings       0\n",
            "Reviewer      0\n",
            "Review        0\n",
            "Rating        0\n",
            "Metadata      0\n",
            "Pictures      0\n",
            "dtype: int64\n"
          ]
        }
      ]
    },
    {
      "cell_type": "markdown",
      "metadata": {
        "id": "LBEgwrSo3hkd"
      },
      "source": [
        "# Data Preprocessing"
      ]
    },
    {
      "cell_type": "code",
      "metadata": {
        "colab": {
          "base_uri": "https://localhost:8080/"
        },
        "id": "cOK4YbdaA-wA",
        "outputId": "90f79a69-495e-4377-cfe7-69e53677b695"
      },
      "source": [
        "#Datatypes of our dataframe\n",
        "df.dtypes"
      ],
      "execution_count": 28,
      "outputs": [
        {
          "output_type": "execute_result",
          "data": {
            "text/plain": [
              "Restaurant     object\n",
              "Cost           object\n",
              "Cuisines       object\n",
              "Timings        object\n",
              "Reviewer       object\n",
              "Review         object\n",
              "Rating         object\n",
              "Metadata       object\n",
              "Pictures      float64\n",
              "dtype: object"
            ]
          },
          "metadata": {},
          "execution_count": 28
        }
      ]
    },
    {
      "cell_type": "code",
      "metadata": {
        "id": "fc0J0p993xjv"
      },
      "source": [
        "#Changing the datatypes of Restaurant, Review\n",
        "df['Restaurant'] = df['Restaurant'].astype(str)\n",
        "df['Review'] = df['Review'].astype(str)\n",
        "df['Rating'] = df['Rating'].astype(float)"
      ],
      "execution_count": 29,
      "outputs": []
    },
    {
      "cell_type": "code",
      "metadata": {
        "id": "p8GRogOC3z32"
      },
      "source": [
        "# Cost values are separated by comma in general (22,500 = 22500)\n",
        "df['Cost'] = df['Cost'].str.replace(',','').astype(int)"
      ],
      "execution_count": 30,
      "outputs": []
    },
    {
      "cell_type": "code",
      "metadata": {
        "id": "TSo_cCkJ31z4"
      },
      "source": [
        "# Making a cuisine list for every restaurant\n",
        "df['Cuisines'] = df['Cuisines'].str.split(',')"
      ],
      "execution_count": 31,
      "outputs": []
    },
    {
      "cell_type": "code",
      "metadata": {
        "id": "UuEp1Gak33td",
        "outputId": "100dba32-3e17-4e43-8084-e6de57e1f8ed",
        "colab": {
          "base_uri": "https://localhost:8080/",
          "height": 287
        }
      },
      "source": [
        "df.sample(5)"
      ],
      "execution_count": 32,
      "outputs": [
        {
          "output_type": "execute_result",
          "data": {
            "text/html": [
              "<div>\n",
              "<style scoped>\n",
              "    .dataframe tbody tr th:only-of-type {\n",
              "        vertical-align: middle;\n",
              "    }\n",
              "\n",
              "    .dataframe tbody tr th {\n",
              "        vertical-align: top;\n",
              "    }\n",
              "\n",
              "    .dataframe thead th {\n",
              "        text-align: right;\n",
              "    }\n",
              "</style>\n",
              "<table border=\"1\" class=\"dataframe\">\n",
              "  <thead>\n",
              "    <tr style=\"text-align: right;\">\n",
              "      <th></th>\n",
              "      <th>Restaurant</th>\n",
              "      <th>Cost</th>\n",
              "      <th>Cuisines</th>\n",
              "      <th>Timings</th>\n",
              "      <th>Reviewer</th>\n",
              "      <th>Review</th>\n",
              "      <th>Rating</th>\n",
              "      <th>Metadata</th>\n",
              "      <th>Pictures</th>\n",
              "    </tr>\n",
              "  </thead>\n",
              "  <tbody>\n",
              "    <tr>\n",
              "      <th>23</th>\n",
              "      <td>Beyond Flavours</td>\n",
              "      <td>800</td>\n",
              "      <td>[Chinese,  Continental,  Kebab,  European,  So...</td>\n",
              "      <td>12noon to 3:30pm, 6:30pm to 11:30pm (Mon-Sun)</td>\n",
              "      <td>Tony</td>\n",
              "      <td>We had our farewell feast here recently enjoye...</td>\n",
              "      <td>5.0</td>\n",
              "      <td>8 Reviews , 25 Followers</td>\n",
              "      <td>0.0</td>\n",
              "    </tr>\n",
              "    <tr>\n",
              "      <th>1320</th>\n",
              "      <td>The Lal Street - Bar Exchange</td>\n",
              "      <td>1300</td>\n",
              "      <td>[North Indian,  Italian,  Finger Food]</td>\n",
              "      <td>12noon to 12midnight (Mon-Sun)</td>\n",
              "      <td>The Food O’Clock</td>\n",
              "      <td>To enter this bar, you have to go from the mai...</td>\n",
              "      <td>4.0</td>\n",
              "      <td>25 Reviews , 13 Followers</td>\n",
              "      <td>3.0</td>\n",
              "    </tr>\n",
              "    <tr>\n",
              "      <th>2252</th>\n",
              "      <td>B-Dubs</td>\n",
              "      <td>1600</td>\n",
              "      <td>[American]</td>\n",
              "      <td>11am to 11:30pm (Mon, Tue, Wed, Thu, Sun), 11a...</td>\n",
              "      <td>Ragaswanth</td>\n",
              "      <td>Its been first time to this place and its awes...</td>\n",
              "      <td>5.0</td>\n",
              "      <td>2 Reviews , 3 Followers</td>\n",
              "      <td>0.0</td>\n",
              "    </tr>\n",
              "    <tr>\n",
              "      <th>2285</th>\n",
              "      <td>B-Dubs</td>\n",
              "      <td>1600</td>\n",
              "      <td>[American]</td>\n",
              "      <td>11am to 11:30pm (Mon, Tue, Wed, Thu, Sun), 11a...</td>\n",
              "      <td>Abhi Bhat</td>\n",
              "      <td>Anil patil and sai raj have served us very wel...</td>\n",
              "      <td>5.0</td>\n",
              "      <td>9 Reviews , 26 Followers</td>\n",
              "      <td>0.0</td>\n",
              "    </tr>\n",
              "    <tr>\n",
              "      <th>3338</th>\n",
              "      <td>Club Rogue</td>\n",
              "      <td>900</td>\n",
              "      <td>[North Indian,  Fast Food]</td>\n",
              "      <td>11 AM to 12 Midnight</td>\n",
              "      <td>HarshaJ Harry</td>\n",
              "      <td>Went to this place to watch ipl match which wa...</td>\n",
              "      <td>1.0</td>\n",
              "      <td>1 Review , 1 Follower</td>\n",
              "      <td>0.0</td>\n",
              "    </tr>\n",
              "  </tbody>\n",
              "</table>\n",
              "</div>"
            ],
            "text/plain": [
              "                         Restaurant  Cost                                           Cuisines                                            Timings          Reviewer                                             Review  Rating                   Metadata  Pictures\n",
              "23                  Beyond Flavours   800  [Chinese,  Continental,  Kebab,  European,  So...      12noon to 3:30pm, 6:30pm to 11:30pm (Mon-Sun)              Tony  We had our farewell feast here recently enjoye...     5.0   8 Reviews , 25 Followers       0.0\n",
              "1320  The Lal Street - Bar Exchange  1300             [North Indian,  Italian,  Finger Food]                     12noon to 12midnight (Mon-Sun)  The Food O’Clock  To enter this bar, you have to go from the mai...     4.0  25 Reviews , 13 Followers       3.0\n",
              "2252                         B-Dubs  1600                                         [American]  11am to 11:30pm (Mon, Tue, Wed, Thu, Sun), 11a...        Ragaswanth  Its been first time to this place and its awes...     5.0    2 Reviews , 3 Followers       0.0\n",
              "2285                         B-Dubs  1600                                         [American]  11am to 11:30pm (Mon, Tue, Wed, Thu, Sun), 11a...         Abhi Bhat  Anil patil and sai raj have served us very wel...     5.0   9 Reviews , 26 Followers       0.0\n",
              "3338                     Club Rogue   900                         [North Indian,  Fast Food]                               11 AM to 12 Midnight     HarshaJ Harry  Went to this place to watch ipl match which wa...     1.0      1 Review , 1 Follower       0.0"
            ]
          },
          "metadata": {},
          "execution_count": 32
        }
      ]
    },
    {
      "cell_type": "code",
      "metadata": {
        "id": "hcx8avLu3-qY"
      },
      "source": [
        "# Function to split the meta data into reviews count and followers count\n",
        "def meta_split(row):\n",
        "    reviews = int(row.split(',')[0].split()[0])\n",
        "    try :\n",
        "        followers = int(row.split(',')[1].split()[0])\n",
        "    except:\n",
        "        followers = 0\n",
        "    return reviews,followers"
      ],
      "execution_count": 33,
      "outputs": []
    },
    {
      "cell_type": "code",
      "metadata": {
        "id": "OpWKxeam4I9P"
      },
      "source": [
        "#Dividing Metadata into reviews and followers column\n",
        "df['reviews'],df['followers'] = zip(*df['Metadata'].map(meta_split))\n",
        "\n",
        "#Dropping metadata\n",
        "df = df.drop('Metadata',axis=1)"
      ],
      "execution_count": 34,
      "outputs": []
    },
    {
      "cell_type": "code",
      "metadata": {
        "id": "PgWbvtrU4VC3",
        "outputId": "67b46e6f-6fa0-43ff-c984-59b49cdeff1c",
        "colab": {
          "base_uri": "https://localhost:8080/",
          "height": 287
        }
      },
      "source": [
        "df.sample(5)"
      ],
      "execution_count": 35,
      "outputs": [
        {
          "output_type": "execute_result",
          "data": {
            "text/html": [
              "<div>\n",
              "<style scoped>\n",
              "    .dataframe tbody tr th:only-of-type {\n",
              "        vertical-align: middle;\n",
              "    }\n",
              "\n",
              "    .dataframe tbody tr th {\n",
              "        vertical-align: top;\n",
              "    }\n",
              "\n",
              "    .dataframe thead th {\n",
              "        text-align: right;\n",
              "    }\n",
              "</style>\n",
              "<table border=\"1\" class=\"dataframe\">\n",
              "  <thead>\n",
              "    <tr style=\"text-align: right;\">\n",
              "      <th></th>\n",
              "      <th>Restaurant</th>\n",
              "      <th>Cost</th>\n",
              "      <th>Cuisines</th>\n",
              "      <th>Timings</th>\n",
              "      <th>Reviewer</th>\n",
              "      <th>Review</th>\n",
              "      <th>Rating</th>\n",
              "      <th>Pictures</th>\n",
              "      <th>reviews</th>\n",
              "      <th>followers</th>\n",
              "    </tr>\n",
              "  </thead>\n",
              "  <tbody>\n",
              "    <tr>\n",
              "      <th>3608</th>\n",
              "      <td>Banana Leaf Multicuisine Restaurant</td>\n",
              "      <td>700</td>\n",
              "      <td>[Biryani,  South Indian,  North Indian,  Chine...</td>\n",
              "      <td>12:30 PM to 3:30 PM, 7 PM to 10:40 PM</td>\n",
              "      <td>Ipsit Sahoo</td>\n",
              "      <td>The food quality in a la carte was kinda so-so...</td>\n",
              "      <td>4.0</td>\n",
              "      <td>0.0</td>\n",
              "      <td>10</td>\n",
              "      <td>31</td>\n",
              "    </tr>\n",
              "    <tr>\n",
              "      <th>5482</th>\n",
              "      <td>Asian Meal Box</td>\n",
              "      <td>200</td>\n",
              "      <td>[Asian]</td>\n",
              "      <td>12noon to 12midnight (Mon, Tue, Wed, Thu, Sun)...</td>\n",
              "      <td>Goud Priya</td>\n",
              "      <td>super delivery</td>\n",
              "      <td>5.0</td>\n",
              "      <td>0.0</td>\n",
              "      <td>1</td>\n",
              "      <td>0</td>\n",
              "    </tr>\n",
              "    <tr>\n",
              "      <th>5717</th>\n",
              "      <td>Being Hungry</td>\n",
              "      <td>450</td>\n",
              "      <td>[North Indian,  Chinese]</td>\n",
              "      <td>12 Noon to 3 PM, 7 PM to 11:30 PM</td>\n",
              "      <td>Meghna Anand</td>\n",
              "      <td>Small outlet with amazing and tasty food. Ever...</td>\n",
              "      <td>4.0</td>\n",
              "      <td>1.0</td>\n",
              "      <td>6</td>\n",
              "      <td>72</td>\n",
              "    </tr>\n",
              "    <tr>\n",
              "      <th>8014</th>\n",
              "      <td>Tandoori Food Works</td>\n",
              "      <td>500</td>\n",
              "      <td>[North Indian,  Burger,  Kebab]</td>\n",
              "      <td>12noon to 12midnight (Mon, Tue, Wed, Thu, Sun)...</td>\n",
              "      <td>Deepak Kumar</td>\n",
              "      <td>The quality is too good. Specially the Malai c...</td>\n",
              "      <td>5.0</td>\n",
              "      <td>2.0</td>\n",
              "      <td>1</td>\n",
              "      <td>1</td>\n",
              "    </tr>\n",
              "    <tr>\n",
              "      <th>1854</th>\n",
              "      <td>10 Downing Street</td>\n",
              "      <td>1900</td>\n",
              "      <td>[North Indian,  Chinese,  Continental]</td>\n",
              "      <td>12 Noon to 12 Midnight</td>\n",
              "      <td>Pooja Hakke</td>\n",
              "      <td>From the delicious food and amazing music to t...</td>\n",
              "      <td>5.0</td>\n",
              "      <td>0.0</td>\n",
              "      <td>21</td>\n",
              "      <td>44</td>\n",
              "    </tr>\n",
              "  </tbody>\n",
              "</table>\n",
              "</div>"
            ],
            "text/plain": [
              "                               Restaurant  Cost                                           Cuisines                                            Timings      Reviewer                                             Review  Rating  Pictures  reviews  followers\n",
              "3608  Banana Leaf Multicuisine Restaurant   700  [Biryani,  South Indian,  North Indian,  Chine...              12:30 PM to 3:30 PM, 7 PM to 10:40 PM   Ipsit Sahoo  The food quality in a la carte was kinda so-so...     4.0       0.0       10         31\n",
              "5482                       Asian Meal Box   200                                            [Asian]  12noon to 12midnight (Mon, Tue, Wed, Thu, Sun)...    Goud Priya                                     super delivery     5.0       0.0        1          0\n",
              "5717                         Being Hungry   450                           [North Indian,  Chinese]                  12 Noon to 3 PM, 7 PM to 11:30 PM  Meghna Anand  Small outlet with amazing and tasty food. Ever...     4.0       1.0        6         72\n",
              "8014                  Tandoori Food Works   500                    [North Indian,  Burger,  Kebab]  12noon to 12midnight (Mon, Tue, Wed, Thu, Sun)...  Deepak Kumar  The quality is too good. Specially the Malai c...     5.0       2.0        1          1\n",
              "1854                    10 Downing Street  1900             [North Indian,  Chinese,  Continental]                             12 Noon to 12 Midnight   Pooja Hakke  From the delicious food and amazing music to t...     5.0       0.0       21         44"
            ]
          },
          "metadata": {},
          "execution_count": 35
        }
      ]
    },
    {
      "cell_type": "markdown",
      "metadata": {
        "id": "HNbK0FJ64q4c"
      },
      "source": [
        "# Text preprocessing for reviews"
      ]
    },
    {
      "cell_type": "code",
      "metadata": {
        "id": "YMtDbuYv402n"
      },
      "source": [
        "from nltk.corpus import stopwords\n",
        "import string"
      ],
      "execution_count": 43,
      "outputs": []
    },
    {
      "cell_type": "code",
      "metadata": {
        "id": "tfw9KywG6Aj3",
        "outputId": "5c5accfc-89a7-4bc1-940b-f9d91199a29b",
        "colab": {
          "base_uri": "https://localhost:8080/"
        }
      },
      "source": [
        "import nltk\n",
        "nltk.download('stopwords')"
      ],
      "execution_count": 51,
      "outputs": [
        {
          "output_type": "stream",
          "name": "stdout",
          "text": [
            "[nltk_data] Downloading package stopwords to /root/nltk_data...\n",
            "[nltk_data]   Unzipping corpora/stopwords.zip.\n"
          ]
        },
        {
          "output_type": "execute_result",
          "data": {
            "text/plain": [
              "True"
            ]
          },
          "metadata": {},
          "execution_count": 51
        }
      ]
    },
    {
      "cell_type": "code",
      "metadata": {
        "id": "P1D0hs__5673"
      },
      "source": [
        "#storing punctuation marks and digits\n",
        "removable = string.punctuation + string.digits\n",
        "\n",
        "#English stopwords\n",
        "stop_words = stopwords.words('english')"
      ],
      "execution_count": 52,
      "outputs": []
    },
    {
      "cell_type": "code",
      "metadata": {
        "id": "w8BQ4pRy4-nc"
      },
      "source": [
        "def reviews_processing(review):\n",
        "  #converting the text to lowercase\n",
        "    review = review.lower()\n",
        "    \n",
        "    #removing punctuation marks and digits\n",
        "    dct = review.maketrans('','',removable)\n",
        "    review = review.translate(dct)\n",
        "    \n",
        "    #removing stopwords from the review\n",
        "    review = ' '.join(i for i in review.split() if i not in stop_words)\n",
        "    return review"
      ],
      "execution_count": 53,
      "outputs": []
    },
    {
      "cell_type": "code",
      "metadata": {
        "id": "rT_R_h215Ct-"
      },
      "source": [
        "df['Review'] = df['Review'].apply(reviews_processing)"
      ],
      "execution_count": 54,
      "outputs": []
    },
    {
      "cell_type": "code",
      "metadata": {
        "id": "KiijEY5F5KpP",
        "outputId": "f8e5428a-9d5b-40a0-d311-d1ea06cd6e1c",
        "colab": {
          "base_uri": "https://localhost:8080/",
          "height": 287
        }
      },
      "source": [
        "df.sample(5)"
      ],
      "execution_count": 55,
      "outputs": [
        {
          "output_type": "execute_result",
          "data": {
            "text/html": [
              "<div>\n",
              "<style scoped>\n",
              "    .dataframe tbody tr th:only-of-type {\n",
              "        vertical-align: middle;\n",
              "    }\n",
              "\n",
              "    .dataframe tbody tr th {\n",
              "        vertical-align: top;\n",
              "    }\n",
              "\n",
              "    .dataframe thead th {\n",
              "        text-align: right;\n",
              "    }\n",
              "</style>\n",
              "<table border=\"1\" class=\"dataframe\">\n",
              "  <thead>\n",
              "    <tr style=\"text-align: right;\">\n",
              "      <th></th>\n",
              "      <th>Restaurant</th>\n",
              "      <th>Cost</th>\n",
              "      <th>Cuisines</th>\n",
              "      <th>Timings</th>\n",
              "      <th>Reviewer</th>\n",
              "      <th>Review</th>\n",
              "      <th>Rating</th>\n",
              "      <th>Pictures</th>\n",
              "      <th>reviews</th>\n",
              "      <th>followers</th>\n",
              "    </tr>\n",
              "  </thead>\n",
              "  <tbody>\n",
              "    <tr>\n",
              "      <th>2580</th>\n",
              "      <td>Tiki Shack</td>\n",
              "      <td>1000</td>\n",
              "      <td>[Continental]</td>\n",
              "      <td>12Noon to 11PM (Mon-Thu),12Noon to 11:30PM (Fr...</td>\n",
              "      <td>HyderabadFoodbloggers</td>\n",
              "      <td>follow instagram page hyderabadfoodbloggers ti...</td>\n",
              "      <td>5.0</td>\n",
              "      <td>2.0</td>\n",
              "      <td>13</td>\n",
              "      <td>5</td>\n",
              "    </tr>\n",
              "    <tr>\n",
              "      <th>2904</th>\n",
              "      <td>Hunger Maggi Point</td>\n",
              "      <td>200</td>\n",
              "      <td>[Fast Food]</td>\n",
              "      <td>4:30 PM to 5:30 AM</td>\n",
              "      <td>Pallavi Mitra</td>\n",
              "      <td>maggie masala put alot maggie could please mak...</td>\n",
              "      <td>1.0</td>\n",
              "      <td>1.0</td>\n",
              "      <td>12</td>\n",
              "      <td>2</td>\n",
              "    </tr>\n",
              "    <tr>\n",
              "      <th>5716</th>\n",
              "      <td>Being Hungry</td>\n",
              "      <td>450</td>\n",
              "      <td>[North Indian,  Chinese]</td>\n",
              "      <td>12 Noon to 3 PM, 7 PM to 11:30 PM</td>\n",
              "      <td>Chandrakala B</td>\n",
              "      <td>food color worst food ate hyderabad unable eat...</td>\n",
              "      <td>1.0</td>\n",
              "      <td>0.0</td>\n",
              "      <td>1</td>\n",
              "      <td>1</td>\n",
              "    </tr>\n",
              "    <tr>\n",
              "      <th>9266</th>\n",
              "      <td>Collage - Hyatt Hyderabad Gachibowli</td>\n",
              "      <td>2800</td>\n",
              "      <td>[Continental,  Italian,  North Indian,  Chines...</td>\n",
              "      <td>24 Hours (Mon-Sun)</td>\n",
              "      <td>Avijit Chakraborthy</td>\n",
              "      <td>ambience superb part star property attendant w...</td>\n",
              "      <td>5.0</td>\n",
              "      <td>2.0</td>\n",
              "      <td>13</td>\n",
              "      <td>9</td>\n",
              "    </tr>\n",
              "    <tr>\n",
              "      <th>678</th>\n",
              "      <td>eat.fit</td>\n",
              "      <td>500</td>\n",
              "      <td>[Healthy Food,  North Indian,  Continental,  S...</td>\n",
              "      <td>7 AM to 10 PM</td>\n",
              "      <td>Nikhil Lakhotia</td>\n",
              "      <td>need improve packing ordered veg thai green cu...</td>\n",
              "      <td>1.0</td>\n",
              "      <td>0.0</td>\n",
              "      <td>9</td>\n",
              "      <td>3</td>\n",
              "    </tr>\n",
              "  </tbody>\n",
              "</table>\n",
              "</div>"
            ],
            "text/plain": [
              "                                Restaurant  Cost                                           Cuisines                                            Timings               Reviewer                                             Review  Rating  Pictures  reviews  followers\n",
              "2580                            Tiki Shack  1000                                      [Continental]  12Noon to 11PM (Mon-Thu),12Noon to 11:30PM (Fr...  HyderabadFoodbloggers  follow instagram page hyderabadfoodbloggers ti...     5.0       2.0       13          5\n",
              "2904                    Hunger Maggi Point   200                                        [Fast Food]                                 4:30 PM to 5:30 AM          Pallavi Mitra  maggie masala put alot maggie could please mak...     1.0       1.0       12          2\n",
              "5716                          Being Hungry   450                           [North Indian,  Chinese]                  12 Noon to 3 PM, 7 PM to 11:30 PM          Chandrakala B  food color worst food ate hyderabad unable eat...     1.0       0.0        1          1\n",
              "9266  Collage - Hyatt Hyderabad Gachibowli  2800  [Continental,  Italian,  North Indian,  Chines...                                 24 Hours (Mon-Sun)    Avijit Chakraborthy  ambience superb part star property attendant w...     5.0       2.0       13          9\n",
              "678                                eat.fit   500  [Healthy Food,  North Indian,  Continental,  S...                                      7 AM to 10 PM        Nikhil Lakhotia  need improve packing ordered veg thai green cu...     1.0       0.0        9          3"
            ]
          },
          "metadata": {},
          "execution_count": 55
        }
      ]
    },
    {
      "cell_type": "code",
      "metadata": {
        "id": "M25rtogn6MJY",
        "outputId": "8df95658-fe5c-4287-c4f8-0c6f965c23aa",
        "colab": {
          "base_uri": "https://localhost:8080/",
          "height": 357
        }
      },
      "source": [
        "#Storing top restaurants sorted by rating\n",
        "by_rating = df.groupby('Restaurant')['Rating'].mean().reset_index().sort_values(by='Rating', ascending=False)\n",
        "by_rating.columns=['Restaurant','avg_rating']\n",
        "by_rating.head(10)"
      ],
      "execution_count": 56,
      "outputs": [
        {
          "output_type": "execute_result",
          "data": {
            "text/html": [
              "<div>\n",
              "<style scoped>\n",
              "    .dataframe tbody tr th:only-of-type {\n",
              "        vertical-align: middle;\n",
              "    }\n",
              "\n",
              "    .dataframe tbody tr th {\n",
              "        vertical-align: top;\n",
              "    }\n",
              "\n",
              "    .dataframe thead th {\n",
              "        text-align: right;\n",
              "    }\n",
              "</style>\n",
              "<table border=\"1\" class=\"dataframe\">\n",
              "  <thead>\n",
              "    <tr style=\"text-align: right;\">\n",
              "      <th></th>\n",
              "      <th>Restaurant</th>\n",
              "      <th>avg_rating</th>\n",
              "    </tr>\n",
              "  </thead>\n",
              "  <tbody>\n",
              "    <tr>\n",
              "      <th>3</th>\n",
              "      <td>AB's - Absolute Barbecues</td>\n",
              "      <td>4.88</td>\n",
              "    </tr>\n",
              "    <tr>\n",
              "      <th>11</th>\n",
              "      <td>B-Dubs</td>\n",
              "      <td>4.81</td>\n",
              "    </tr>\n",
              "    <tr>\n",
              "      <th>2</th>\n",
              "      <td>3B's - Buddies, Bar &amp; Barbecue</td>\n",
              "      <td>4.76</td>\n",
              "    </tr>\n",
              "    <tr>\n",
              "      <th>67</th>\n",
              "      <td>Paradise</td>\n",
              "      <td>4.70</td>\n",
              "    </tr>\n",
              "    <tr>\n",
              "      <th>35</th>\n",
              "      <td>Flechazo</td>\n",
              "      <td>4.66</td>\n",
              "    </tr>\n",
              "    <tr>\n",
              "      <th>86</th>\n",
              "      <td>The Indi Grill</td>\n",
              "      <td>4.60</td>\n",
              "    </tr>\n",
              "    <tr>\n",
              "      <th>96</th>\n",
              "      <td>Zega - Sheraton Hyderabad Hotel</td>\n",
              "      <td>4.45</td>\n",
              "    </tr>\n",
              "    <tr>\n",
              "      <th>64</th>\n",
              "      <td>Over The Moon Brew Company</td>\n",
              "      <td>4.34</td>\n",
              "    </tr>\n",
              "    <tr>\n",
              "      <th>16</th>\n",
              "      <td>Beyond Flavours</td>\n",
              "      <td>4.28</td>\n",
              "    </tr>\n",
              "    <tr>\n",
              "      <th>19</th>\n",
              "      <td>Cascade - Radisson Hyderabad Hitec City</td>\n",
              "      <td>4.26</td>\n",
              "    </tr>\n",
              "  </tbody>\n",
              "</table>\n",
              "</div>"
            ],
            "text/plain": [
              "                                 Restaurant  avg_rating\n",
              "3                 AB's - Absolute Barbecues        4.88\n",
              "11                                   B-Dubs        4.81\n",
              "2            3B's - Buddies, Bar & Barbecue        4.76\n",
              "67                                 Paradise        4.70\n",
              "35                                 Flechazo        4.66\n",
              "86                           The Indi Grill        4.60\n",
              "96          Zega - Sheraton Hyderabad Hotel        4.45\n",
              "64               Over The Moon Brew Company        4.34\n",
              "16                          Beyond Flavours        4.28\n",
              "19  Cascade - Radisson Hyderabad Hitec City        4.26"
            ]
          },
          "metadata": {},
          "execution_count": 56
        }
      ]
    },
    {
      "cell_type": "code",
      "metadata": {
        "id": "5pUZW2pR6Qnd",
        "outputId": "1b442f9c-b7a2-4a8d-b8a9-263dd3dc0337",
        "colab": {
          "base_uri": "https://localhost:8080/",
          "height": 601
        }
      },
      "source": [
        "plt.figure(figsize=(12,6))\n",
        "sns.barplot(data=by_rating[:20], x='Restaurant', y='avg_rating')\n",
        "plt.title('Top 20 Restaurants by Rating')\n",
        "plt.xticks(rotation='vertical')\n",
        "plt.show()"
      ],
      "execution_count": 57,
      "outputs": [
        {
          "output_type": "display_data",
          "data": {
            "image/png": "[encoded data removed]",
            "text/plain": [
              "<Figure size 864x432 with 1 Axes>"
            ]
          },
          "metadata": {
            "needs_background": "light"
          }
        }
      ]
    },
    {
      "cell_type": "code",
      "metadata": {
        "id": "GHYHMtd36UIs",
        "outputId": "f4c70f14-9bd9-4402-be18-daecd06e9b57",
        "colab": {
          "base_uri": "https://localhost:8080/",
          "height": 357
        }
      },
      "source": [
        "by_reviews = df.groupby('Reviewer')['reviews'].mean().reset_index().sort_values(by='reviews',ascending=False)\n",
        "by_reviews.columns=['Reviewer','avg_reviews']\n",
        "by_reviews.head(10)"
      ],
      "execution_count": 58,
      "outputs": [
        {
          "output_type": "execute_result",
          "data": {
            "text/html": [
              "<div>\n",
              "<style scoped>\n",
              "    .dataframe tbody tr th:only-of-type {\n",
              "        vertical-align: middle;\n",
              "    }\n",
              "\n",
              "    .dataframe tbody tr th {\n",
              "        vertical-align: top;\n",
              "    }\n",
              "\n",
              "    .dataframe thead th {\n",
              "        text-align: right;\n",
              "    }\n",
              "</style>\n",
              "<table border=\"1\" class=\"dataframe\">\n",
              "  <thead>\n",
              "    <tr style=\"text-align: right;\">\n",
              "      <th></th>\n",
              "      <th>Reviewer</th>\n",
              "      <th>avg_reviews</th>\n",
              "    </tr>\n",
              "  </thead>\n",
              "  <tbody>\n",
              "    <tr>\n",
              "      <th>765</th>\n",
              "      <td>Anvesh Chowdary</td>\n",
              "      <td>1031.0</td>\n",
              "    </tr>\n",
              "    <tr>\n",
              "      <th>7389</th>\n",
              "      <td>ᴀɴ.ᴏᴛʜᴇʀ.sᴇɴ</td>\n",
              "      <td>685.0</td>\n",
              "    </tr>\n",
              "    <tr>\n",
              "      <th>79</th>\n",
              "      <td>Abc098</td>\n",
              "      <td>665.0</td>\n",
              "    </tr>\n",
              "    <tr>\n",
              "      <th>3234</th>\n",
              "      <td>Mithun Ravindranathan</td>\n",
              "      <td>560.0</td>\n",
              "    </tr>\n",
              "    <tr>\n",
              "      <th>3280</th>\n",
              "      <td>Mohd Zubair Ali (Hyderabad.Food.Diaries)</td>\n",
              "      <td>482.0</td>\n",
              "    </tr>\n",
              "    <tr>\n",
              "      <th>1172</th>\n",
              "      <td>Bhargava Krishna</td>\n",
              "      <td>472.0</td>\n",
              "    </tr>\n",
              "    <tr>\n",
              "      <th>1707</th>\n",
              "      <td>Epicurean Tales</td>\n",
              "      <td>452.0</td>\n",
              "    </tr>\n",
              "    <tr>\n",
              "      <th>4367</th>\n",
              "      <td>Raghu</td>\n",
              "      <td>443.0</td>\n",
              "    </tr>\n",
              "    <tr>\n",
              "      <th>62</th>\n",
              "      <td>Aarti Kamath</td>\n",
              "      <td>417.0</td>\n",
              "    </tr>\n",
              "    <tr>\n",
              "      <th>5770</th>\n",
              "      <td>Shrishail Deshnur</td>\n",
              "      <td>414.0</td>\n",
              "    </tr>\n",
              "  </tbody>\n",
              "</table>\n",
              "</div>"
            ],
            "text/plain": [
              "                                      Reviewer  avg_reviews\n",
              "765                            Anvesh Chowdary       1031.0\n",
              "7389                              ᴀɴ.ᴏᴛʜᴇʀ.sᴇɴ        685.0\n",
              "79                                      Abc098        665.0\n",
              "3234                     Mithun Ravindranathan        560.0\n",
              "3280  Mohd Zubair Ali (Hyderabad.Food.Diaries)        482.0\n",
              "1172                          Bhargava Krishna        472.0\n",
              "1707                           Epicurean Tales        452.0\n",
              "4367                                     Raghu        443.0\n",
              "62                                Aarti Kamath        417.0\n",
              "5770                         Shrishail Deshnur        414.0"
            ]
          },
          "metadata": {},
          "execution_count": 58
        }
      ]
    },
    {
      "cell_type": "code",
      "metadata": {
        "id": "P5n-LmfE6X01",
        "outputId": "3d4089d1-e7c1-4811-e90d-b27360588002",
        "colab": {
          "base_uri": "https://localhost:8080/",
          "height": 604
        }
      },
      "source": [
        "plt.figure(figsize=(12,6))\n",
        "sns.barplot(data=by_reviews[:10],x='Reviewer', y='avg_reviews')\n",
        "plt.title('Top 10 Critics by Reviews')\n",
        "plt.xticks(rotation='vertical')\n",
        "plt.show()"
      ],
      "execution_count": 59,
      "outputs": [
        {
          "output_type": "display_data",
          "data": {
            "image/png": "[encoded data removed]",
            "text/plain": [
              "<Figure size 864x432 with 1 Axes>"
            ]
          },
          "metadata": {
            "needs_background": "light"
          }
        }
      ]
    },
    {
      "cell_type": "code",
      "metadata": {
        "id": "6sIAjuK06ZqE"
      },
      "source": [
        ""
      ],
      "execution_count": null,
      "outputs": []
    }
  ]
}